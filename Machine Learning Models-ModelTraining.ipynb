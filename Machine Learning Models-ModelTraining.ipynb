{
 "cells": [
  {
   "cell_type": "code",
   "execution_count": null,
   "metadata": {
    "id": "ptU9Ekxi3bWJ"
   },
   "outputs": [],
   "source": []
  },
  {
   "cell_type": "markdown",
   "metadata": {
    "id": "RSwbxsuO3kQO"
   },
   "source": [
    "## Import Libraries and Read Data as csv format"
   ]
  },
  {
   "cell_type": "code",
   "execution_count": 45,
   "metadata": {
    "colab": {
     "base_uri": "https://localhost:8080/",
     "height": 206
    },
    "id": "ffNGTOmhXV3h",
    "outputId": "9ce4c931-dad6-4503-a244-cda30be0a5a9"
   },
   "outputs": [],
   "source": [
    "import pandas as pd\n",
    "import numpy as np\n",
    "import seaborn as sns\n",
    "import matplotlib.pyplot as plt\n",
    "from sklearn.feature_extraction.text import CountVectorizer, TfidfVectorizer, HashingVectorizer\n",
    "\n",
    "df=pd.read_csv('Data.csv')\n",
    "\n"
   ]
  },
  {
   "cell_type": "code",
   "execution_count": 46,
   "metadata": {},
   "outputs": [
    {
     "data": {
      "text/html": [
       "<div>\n",
       "<style scoped>\n",
       "    .dataframe tbody tr th:only-of-type {\n",
       "        vertical-align: middle;\n",
       "    }\n",
       "\n",
       "    .dataframe tbody tr th {\n",
       "        vertical-align: top;\n",
       "    }\n",
       "\n",
       "    .dataframe thead th {\n",
       "        text-align: right;\n",
       "    }\n",
       "</style>\n",
       "<table border=\"1\" class=\"dataframe\">\n",
       "  <thead>\n",
       "    <tr style=\"text-align: right;\">\n",
       "      <th></th>\n",
       "      <th>UserId</th>\n",
       "      <th>TweetId</th>\n",
       "      <th>Tweet</th>\n",
       "      <th>ADR_label</th>\n",
       "    </tr>\n",
       "  </thead>\n",
       "  <tbody>\n",
       "    <tr>\n",
       "      <th>0</th>\n",
       "      <td>10030778</td>\n",
       "      <td>413205</td>\n",
       "      <td>Intravenous azithromycin-induced ototoxicity.</td>\n",
       "      <td>1</td>\n",
       "    </tr>\n",
       "    <tr>\n",
       "      <th>1</th>\n",
       "      <td>10048291</td>\n",
       "      <td>528244</td>\n",
       "      <td>Immobilization, while Paget's bone disease was...</td>\n",
       "      <td>1</td>\n",
       "    </tr>\n",
       "    <tr>\n",
       "      <th>2</th>\n",
       "      <td>10048291</td>\n",
       "      <td>361834</td>\n",
       "      <td>Unaccountable severe hypercalcemia in a patien...</td>\n",
       "      <td>1</td>\n",
       "    </tr>\n",
       "    <tr>\n",
       "      <th>3</th>\n",
       "      <td>10082597</td>\n",
       "      <td>292240</td>\n",
       "      <td>METHODS: We report two cases of pseudoporphyri...</td>\n",
       "      <td>1</td>\n",
       "    </tr>\n",
       "    <tr>\n",
       "      <th>4</th>\n",
       "      <td>10082597</td>\n",
       "      <td>467101</td>\n",
       "      <td>METHODS: We report two cases of pseudoporphyri...</td>\n",
       "      <td>1</td>\n",
       "    </tr>\n",
       "  </tbody>\n",
       "</table>\n",
       "</div>"
      ],
      "text/plain": [
       "     UserId  TweetId                                              Tweet  \\\n",
       "0  10030778   413205      Intravenous azithromycin-induced ototoxicity.   \n",
       "1  10048291   528244  Immobilization, while Paget's bone disease was...   \n",
       "2  10048291   361834  Unaccountable severe hypercalcemia in a patien...   \n",
       "3  10082597   292240  METHODS: We report two cases of pseudoporphyri...   \n",
       "4  10082597   467101  METHODS: We report two cases of pseudoporphyri...   \n",
       "\n",
       "   ADR_label  \n",
       "0          1  \n",
       "1          1  \n",
       "2          1  \n",
       "3          1  \n",
       "4          1  "
      ]
     },
     "execution_count": 46,
     "metadata": {},
     "output_type": "execute_result"
    }
   ],
   "source": [
    "df.head(5)"
   ]
  },
  {
   "cell_type": "code",
   "execution_count": 47,
   "metadata": {
    "colab": {
     "base_uri": "https://localhost:8080/"
    },
    "id": "EG7mEPls3ZoS",
    "outputId": "a85b5391-7810-4bbc-fee4-fd8763b4f576"
   },
   "outputs": [
    {
     "name": "stdout",
     "output_type": "stream",
     "text": [
      "UserId     0\n",
      "TweetId    0\n",
      "Tweet      0\n",
      "dtype: int64\n"
     ]
    }
   ],
   "source": [
    "X=df.drop(columns='ADR_label', axis=1)\n",
    "y=df['ADR_label']\n",
    "print(X.isna().sum())\n",
    "messages=X.copy()"
   ]
  },
  {
   "cell_type": "code",
   "execution_count": 48,
   "metadata": {
    "colab": {
     "base_uri": "https://localhost:8080/"
    },
    "id": "bxeJg_0uc7th",
    "outputId": "39a445ea-2e2f-4d24-d4ea-393a90f93e0b"
   },
   "outputs": [
    {
     "data": {
      "text/plain": [
       "0    16694\n",
       "1     6822\n",
       "Name: ADR_label, dtype: int64"
      ]
     },
     "execution_count": 48,
     "metadata": {},
     "output_type": "execute_result"
    }
   ],
   "source": [
    "y.value_counts()"
   ]
  },
  {
   "cell_type": "code",
   "execution_count": null,
   "metadata": {
    "id": "RVjtdMWA4cdb"
   },
   "outputs": [],
   "source": []
  },
  {
   "cell_type": "markdown",
   "metadata": {
    "id": "Y2Qtq-fE4fR0"
   },
   "source": [
    "Importing NLTK Libraries to preprocess Text data.\n",
    "Convert to lower case\n",
    "Remove Stopwords\n",
    "Stemming words\n",
    "Use TF-IDF  to get most frequent and important words that considered for model building."
   ]
  },
  {
   "cell_type": "code",
   "execution_count": 49,
   "metadata": {
    "colab": {
     "base_uri": "https://localhost:8080/"
    },
    "id": "-RAtIAoYX1G2",
    "outputId": "1e8cd542-8fe3-48c1-e125-1e72f96dad64"
   },
   "outputs": [
    {
     "name": "stderr",
     "output_type": "stream",
     "text": [
      "[nltk_data] Downloading package stopwords to\n",
      "[nltk_data]     C:\\Users\\vikas.shivakumar\\AppData\\Roaming\\nltk_data...\n",
      "[nltk_data]   Package stopwords is already up-to-date!\n"
     ]
    },
    {
     "data": {
      "text/plain": [
       "True"
      ]
     },
     "execution_count": 49,
     "metadata": {},
     "output_type": "execute_result"
    }
   ],
   "source": [
    "import nltk\n",
    "nltk.download('stopwords')"
   ]
  },
  {
   "cell_type": "code",
   "execution_count": 50,
   "metadata": {
    "id": "41zYcZI_XdZN"
   },
   "outputs": [],
   "source": [
    "from nltk.corpus import stopwords\n",
    "from nltk.stem.porter import PorterStemmer\n",
    "import re\n",
    "\n",
    "messages['Tweet'][0]\n",
    "\n",
    "from nltk.corpus import stopwords\n",
    "from nltk.stem.porter import PorterStemmer\n",
    "import re\n",
    "\n",
    "\n",
    "## Function to Reuse if needed\n",
    "def preprocess(text):\n",
    "    ps = PorterStemmer()\n",
    "    corpus = []\n",
    "    for i in range(0, len(messages)):\n",
    "        review = re.sub('[^a-zA-Z]', ' ', messages['Tweet'][i])\n",
    "        review = review.lower()\n",
    "        review = review.split()\n",
    "\n",
    "        review = [ps.stem(word) for word in review if not word in stopwords.words('english')]\n",
    "        review = ' '.join(review)\n",
    "        corpus.append(review)\n",
    "    return corpus"
   ]
  },
  {
   "cell_type": "code",
   "execution_count": 52,
   "metadata": {
    "id": "S59P9xvUEgLQ"
   },
   "outputs": [],
   "source": [
    "ps = PorterStemmer()\n",
    "corpus = []\n",
    "for i in range(0, len(messages)):\n",
    "    review = re.sub('[^a-zA-Z]', ' ', messages['Tweet'][i])\n",
    "    review = review.lower()\n",
    "    review = review.split()\n",
    "\n",
    "    review = [ps.stem(word) for word in review if not word in stopwords.words('english')]\n",
    "    review = ' '.join(review)\n",
    "    corpus.append(review)\n",
    "\n",
    "tf = TfidfVectorizer(max_features=2500,ngram_range=(1,3))\n",
    "\n",
    "# Fit the model\n",
    "tf_transformer = tf.fit(corpus)\n",
    "\n",
    "# Dump the file\n",
    "# To use the same vocab during prediction\n",
    "pickle.dump(tf_transformer, open(\"tfidf1.pkl\", \"wb\"))"
   ]
  },
  {
   "cell_type": "code",
   "execution_count": 53,
   "metadata": {
    "id": "1Dcv_fSYYmyT"
   },
   "outputs": [],
   "source": [
    "## TFidf Vectorizer\n",
    "from sklearn.feature_extraction.text import TfidfVectorizer\n",
    "tfidf_v=TfidfVectorizer(max_features=2500,ngram_range=(1,3))\n",
    "X=tfidf_v.fit_transform(corpus).toarray()"
   ]
  },
  {
   "cell_type": "code",
   "execution_count": 54,
   "metadata": {},
   "outputs": [
    {
     "data": {
      "text/plain": [
       "(2500,)"
      ]
     },
     "execution_count": 54,
     "metadata": {},
     "output_type": "execute_result"
    }
   ],
   "source": [
    "X[0].shape"
   ]
  },
  {
   "cell_type": "markdown",
   "metadata": {
    "id": "cpi-Dxjq5TPI"
   },
   "source": [
    "### Now We have extracted 2500 features from the Input Data."
   ]
  },
  {
   "cell_type": "code",
   "execution_count": 12,
   "metadata": {
    "colab": {
     "base_uri": "https://localhost:8080/"
    },
    "id": "SOhpQPCbYvPQ",
    "outputId": "8f1fa152-e2a9-41be-d425-7450b505bd13",
    "scrolled": true
   },
   "outputs": [
    {
     "data": {
      "text/plain": [
       "(23516, 2500)"
      ]
     },
     "execution_count": 12,
     "metadata": {},
     "output_type": "execute_result"
    }
   ],
   "source": [
    "X.shape"
   ]
  },
  {
   "cell_type": "code",
   "execution_count": 13,
   "metadata": {},
   "outputs": [
    {
     "data": {
      "text/plain": [
       "(23516,)"
      ]
     },
     "execution_count": 13,
     "metadata": {},
     "output_type": "execute_result"
    }
   ],
   "source": [
    "y.shape"
   ]
  },
  {
   "cell_type": "code",
   "execution_count": 55,
   "metadata": {
    "id": "nwilTmvRc3Ff"
   },
   "outputs": [],
   "source": [
    "## Divide the dataset into Train and Test\n",
    "from sklearn.model_selection import train_test_split\n",
    "X_train, X_test, y_train, y_test = train_test_split(X, y, test_size=0.33, random_state=0)"
   ]
  },
  {
   "cell_type": "code",
   "execution_count": 31,
   "metadata": {
    "colab": {
     "base_uri": "https://localhost:8080/"
    },
    "id": "WxBD2pFY6jdu",
    "outputId": "d1c6ce15-0983-4d1b-b338-fd80f73ef528"
   },
   "outputs": [
    {
     "data": {
      "text/plain": [
       "1    28.94954\n",
       "Name: ADR_label, dtype: float64"
      ]
     },
     "execution_count": 31,
     "metadata": {
      "tags": []
     },
     "output_type": "execute_result"
    }
   ],
   "source": [
    "(y_train[y_train==1].value_counts()/y_train.shape[0])*100"
   ]
  },
  {
   "cell_type": "code",
   "execution_count": 56,
   "metadata": {
    "colab": {
     "base_uri": "https://localhost:8080/"
    },
    "id": "YKeRsClf7KtN",
    "outputId": "ad2bb202-ae60-41df-d9e2-d99e70f246d3"
   },
   "outputs": [
    {
     "data": {
      "text/plain": [
       "7761"
      ]
     },
     "execution_count": 56,
     "metadata": {},
     "output_type": "execute_result"
    }
   ],
   "source": [
    "y_test.shape[0]"
   ]
  },
  {
   "cell_type": "code",
   "execution_count": 141,
   "metadata": {
    "id": "a5vn3oNGZDVw"
   },
   "outputs": [],
   "source": [
    "## View The data of train and test split"
   ]
  },
  {
   "cell_type": "code",
   "execution_count": 34,
   "metadata": {
    "colab": {
     "base_uri": "https://localhost:8080/"
    },
    "id": "v39liKj5dLYD",
    "outputId": "6a516dd0-cca7-45a2-93a6-97b552b3c35a",
    "scrolled": true
   },
   "outputs": [
    {
     "name": "stdout",
     "output_type": "stream",
     "text": [
      "X (23516, 4000)\n",
      "y (23516,)\n",
      "y Percentage for 1s 1    29.010036\n",
      "Name: ADR_label, dtype: float64\n",
      "y Percentage for 0s 0    70.989964\n",
      "Name: ADR_label, dtype: float64\n",
      "--\n",
      "X_train (15755, 4000)\n",
      "y_train (15755,)\n",
      "y_train Percentage for 1s 1    28.94954\n",
      "Name: ADR_label, dtype: float64\n",
      "y_train Percentage for 0s 0    71.05046\n",
      "Name: ADR_label, dtype: float64\n",
      "--\n",
      "X_test (7761, 4000)\n",
      "y_test (7761,)\n",
      "y_test Percentage for 1s 1    29.132844\n",
      "Name: ADR_label, dtype: float64\n",
      "y_test Percentage for 0s 0    70.867156\n",
      "Name: ADR_label, dtype: float64\n"
     ]
    }
   ],
   "source": [
    "print('X', X.shape)\n",
    "print('y', y.shape)\n",
    "print('y Percentage for 1s', (y[y==1].value_counts()/y.shape[0])*100)\n",
    "print('y Percentage for 0s', (y[y==0].value_counts()/y.shape[0])*100)\n",
    "print('--')\n",
    "print('X_train', X_train.shape)\n",
    "print('y_train', y_train.shape)\n",
    "print('y_train Percentage for 1s', (y_train[y_train==1].value_counts()/y_train.shape[0])*100)\n",
    "print('y_train Percentage for 0s', (y_train[y_train==0].value_counts()/y_train.shape[0])*100)\n",
    "print('--')\n",
    "print('X_test', X_test.shape)\n",
    "print('y_test', y_test.shape)\n",
    "print('y_test Percentage for 1s', (y_test[y_test==1].value_counts()/y_test.shape[0])*100)\n",
    "print('y_test Percentage for 0s', (y_test[y_test==0].value_counts()/y_test.shape[0])*100)"
   ]
  },
  {
   "cell_type": "code",
   "execution_count": 65,
   "metadata": {},
   "outputs": [],
   "source": [
    "from sklearn.metrics import classification_report,confusion_matrix\n",
    "def plot_confusion_matrix(cm, classes,\n",
    "                          normalize=False,\n",
    "                          title='Confusion matrix',\n",
    "                          cmap=plt.cm.Blues):\n",
    "    \"\"\"\n",
    "    This function prints and plots the confusion matrix.\n",
    "    Normalization can be applied by setting `normalize=True`.\n",
    "    \"\"\"\n",
    "    if normalize:\n",
    "        cm = cm.astype('float') / cm.sum(axis=1)[:, np.newaxis]\n",
    "        print(\"Normalized confusion matrix\")\n",
    "    else:\n",
    "        print('Confusion matrix, without normalization')\n",
    "\n",
    "    # print(cm)\n",
    "\n",
    "    plt.imshow(cm, interpolation='nearest', cmap=cmap)\n",
    "    plt.title(title)\n",
    "    plt.colorbar()\n",
    "    tick_marks = np.arange(len(classes))\n",
    "    plt.xticks(tick_marks, classes, rotation=90)\n",
    "    plt.yticks(tick_marks, classes)\n",
    "\n",
    "    fmt = '.2f' if normalize else 'd'\n",
    "    thresh = cm.max() / 2.\n",
    "        plt.text(j, i, format(cm[i, j], fmt),\n",
    "                 horizontalalignment=\"center\",\n",
    "                 color=\"white\" if cm[i, j] > thresh else \"black\")\n",
    "\n",
    "    plt.tight_layout()\n",
    "    plt.ylabel('True label')\n",
    "    plt.xlabel('Predicted label')"
   ]
  },
  {
   "cell_type": "code",
   "execution_count": null,
   "metadata": {},
   "outputs": [],
   "source": []
  },
  {
   "cell_type": "markdown",
   "metadata": {
    "id": "b_fsrCO68Mkl"
   },
   "source": [
    "###### For Text Classification, Naive Bayes Probabilty Algothm and SVM Classifier Looks Good\n",
    "###### Tried Below Algorithms\n",
    "1. Random Forest\n",
    "2. CART\n",
    "3. Bagging Classifier\n",
    "4. Gradient Boosting\n",
    "5. ADA Boost\n",
    "6. KNN \n",
    "7. SVC\n",
    "8. Naive Bayes\n",
    "9. Logistic Regression\n"
   ]
  },
  {
   "cell_type": "code",
   "execution_count": 57,
   "metadata": {
    "id": "3lks6agJZXtD"
   },
   "outputs": [],
   "source": [
    "from sklearn import metrics\n",
    "import numpy as np\n",
    "import itertools"
   ]
  },
  {
   "cell_type": "code",
   "execution_count": 58,
   "metadata": {},
   "outputs": [],
   "source": [
    "from sklearn.model_selection import GridSearchCV"
   ]
  },
  {
   "cell_type": "code",
   "execution_count": 57,
   "metadata": {
    "id": "Ky4vt0SlZH9l"
   },
   "outputs": [],
   "source": [
    "from sklearn.naive_bayes import MultinomialNB\n",
    "NBclassifier=MultinomialNB()"
   ]
  },
  {
   "cell_type": "code",
   "execution_count": 76,
   "metadata": {},
   "outputs": [],
   "source": [
    "from xgboost import XGBClassifier\n",
    "XGBclassifier=XGBClassifier()"
   ]
  },
  {
   "cell_type": "code",
   "execution_count": 100,
   "metadata": {},
   "outputs": [],
   "source": [
    "from sklearn.svm import SVC"
   ]
  },
  {
   "cell_type": "code",
   "execution_count": 123,
   "metadata": {
    "scrolled": true
   },
   "outputs": [
    {
     "data": {
      "text/plain": [
       "{'C': 1.0,\n",
       " 'break_ties': False,\n",
       " 'cache_size': 200,\n",
       " 'class_weight': None,\n",
       " 'coef0': 0.0,\n",
       " 'decision_function_shape': 'ovr',\n",
       " 'degree': 3,\n",
       " 'gamma': 'scale',\n",
       " 'kernel': 'rbf',\n",
       " 'max_iter': -1,\n",
       " 'probability': False,\n",
       " 'random_state': None,\n",
       " 'shrinking': True,\n",
       " 'tol': 0.001,\n",
       " 'verbose': False}"
      ]
     },
     "execution_count": 123,
     "metadata": {},
     "output_type": "execute_result"
    }
   ],
   "source": [
    "SVClassifier.get_params()"
   ]
  },
  {
   "cell_type": "code",
   "execution_count": 116,
   "metadata": {},
   "outputs": [],
   "source": [
    "from sklearn.ensemble import RandomForestClassifier, BaggingClassifier"
   ]
  },
  {
   "cell_type": "code",
   "execution_count": 130,
   "metadata": {
    "scrolled": false
   },
   "outputs": [
    {
     "data": {
      "text/plain": [
       "{'bootstrap': True,\n",
       " 'ccp_alpha': 0.0,\n",
       " 'class_weight': None,\n",
       " 'criterion': 'gini',\n",
       " 'max_depth': None,\n",
       " 'max_features': 'auto',\n",
       " 'max_leaf_nodes': None,\n",
       " 'max_samples': None,\n",
       " 'min_impurity_decrease': 0.0,\n",
       " 'min_samples_leaf': 1,\n",
       " 'min_samples_split': 2,\n",
       " 'min_weight_fraction_leaf': 0.0,\n",
       " 'n_estimators': 100,\n",
       " 'n_jobs': None,\n",
       " 'oob_score': False,\n",
       " 'random_state': None,\n",
       " 'verbose': 0,\n",
       " 'warm_start': False}"
      ]
     },
     "execution_count": 130,
     "metadata": {},
     "output_type": "execute_result"
    }
   ],
   "source": [
    "rf=RandomForestClassifier()\n",
    "rf.get_params()"
   ]
  },
  {
   "cell_type": "code",
   "execution_count": 132,
   "metadata": {},
   "outputs": [
    {
     "data": {
      "text/plain": [
       "{'base_estimator': None,\n",
       " 'bootstrap': True,\n",
       " 'bootstrap_features': False,\n",
       " 'max_features': 1.0,\n",
       " 'max_samples': 1.0,\n",
       " 'n_estimators': 10,\n",
       " 'n_jobs': None,\n",
       " 'oob_score': False,\n",
       " 'random_state': None,\n",
       " 'verbose': 0,\n",
       " 'warm_start': False}"
      ]
     },
     "execution_count": 132,
     "metadata": {},
     "output_type": "execute_result"
    }
   ],
   "source": [
    "bgc=BaggingClassifier()\n",
    "bgc.get_params()"
   ]
  },
  {
   "cell_type": "markdown",
   "metadata": {
    "id": "PIPSvKBPrEwz"
   },
   "source": [
    "Based on Text Data, NB and SVM works better. Hence chosen for building model.\n",
    "Since the classes are imbalanced, considered Recall as a performance measure\n",
    "We can see XGB has not performed well as it is not a good model for text data.\n",
    "NB has very less recall score and same goes with XGB and  KNN.\n",
    "SVM classifier has a good accuracy and recall score.\n",
    "Neural Netowrk is also considerably doing well based on accuracy and recall.\n",
    "\n",
    "We can conclude that SVM and Neural Network works best for this data.\n",
    "For fine tuning, we can actually try Kernel SVM and use hyperparmater tuning and check threshold for AUC curve to fine tune the model.\n"
   ]
  },
  {
   "cell_type": "code",
   "execution_count": 65,
   "metadata": {},
   "outputs": [],
   "source": []
  },
  {
   "cell_type": "code",
   "execution_count": null,
   "metadata": {},
   "outputs": [],
   "source": []
  },
  {
   "cell_type": "code",
   "execution_count": 139,
   "metadata": {
    "id": "If9BQxgmsaza"
   },
   "outputs": [
    {
     "name": "stdout",
     "output_type": "stream",
     "text": [
      "Accuracy 0.8461538461538461\n"
     ]
    }
   ],
   "source": [
    "#Training \n",
    "#1 Bagging Classifier\n",
    "\n",
    "bgc = BaggingClassifier(n_estimators=10)\n",
    "bgc.fit(X_train,y_train)\n",
    "pred=bgc.predict(X_test)\n"
   ]
  },
  {
   "cell_type": "code",
   "execution_count": 142,
   "metadata": {
    "scrolled": true
   },
   "outputs": [
    {
     "data": {
      "text/plain": [
       "<AxesSubplot:>"
      ]
     },
     "execution_count": 142,
     "metadata": {},
     "output_type": "execute_result"
    },
    {
     "data": {
      "image/png": "[encoded data removed]",
      "text/plain": [
       "<Figure size 432x288 with 2 Axes>"
      ]
     },
     "metadata": {
      "needs_background": "light"
     },
     "output_type": "display_data"
    }
   ],
   "source": [
    "classification_metrics=classification_report(y_test, pred, output_dict=True)\n",
    "sns.heatmap(pd.DataFrame(classification_metrics).iloc[:-1, :].T, annot=True)"
   ]
  },
  {
   "cell_type": "code",
   "execution_count": 161,
   "metadata": {},
   "outputs": [],
   "source": [
    "classes=[0,1]"
   ]
  },
  {
   "cell_type": "code",
   "execution_count": 162,
   "metadata": {
    "scrolled": true
   },
   "outputs": [
    {
     "name": "stdout",
     "output_type": "stream",
     "text": [
      "Normalized confusion matrix\n"
     ]
    },
    {
     "data": {
      "image/png": "[encoded data removed]",
      "text/plain": [
       "<Figure size 432x288 with 2 Axes>"
      ]
     },
     "metadata": {
      "needs_background": "light"
     },
     "output_type": "display_data"
    }
   ],
   "source": [
    "\n",
    "classes=[0,1]\n",
    "cm = confusion_matrix(y_test, pred, labels=classes)\n",
    "plot_confusion_matrix(cm, classes, normalize=True)"
   ]
  },
  {
   "cell_type": "code",
   "execution_count": 163,
   "metadata": {
    "scrolled": true
   },
   "outputs": [
    {
     "name": "stdout",
     "output_type": "stream",
     "text": [
      "Accuracy 0.8461538461538461\n",
      "AUC Score 0.7965154195649551\n",
      "F Score 0.7195866604039455\n",
      "Recall Score 0.6775762936753649\n"
     ]
    }
   ],
   "source": [
    "print('Accuracy', metrics.accuracy_score(y_test,pred))\n",
    "print('AUC Score', metrics.roc_auc_score(y_test,pred))\n",
    "print('F Score', metrics.f1_score(y_test,pred))\n",
    "print('Recall Score', metrics.recall_score(y_test,pred))"
   ]
  },
  {
   "cell_type": "code",
   "execution_count": 164,
   "metadata": {},
   "outputs": [],
   "source": [
    "import pickle\n",
    "pickle.dump(bgc, open(\"BaggingClassifier.pkl\", \"wb\"))  # save it into a file named save.p"
   ]
  },
  {
   "cell_type": "code",
   "execution_count": 61,
   "metadata": {},
   "outputs": [
    {
     "data": {
      "text/plain": [
       "(15755, 2500)"
      ]
     },
     "execution_count": 61,
     "metadata": {},
     "output_type": "execute_result"
    }
   ],
   "source": [
    "X_train.shape"
   ]
  },
  {
   "cell_type": "code",
   "execution_count": 78,
   "metadata": {},
   "outputs": [],
   "source": [
    "##2 RandomForest\n",
    "\n",
    "from sklearn.ensemble import RandomForestClassifier\n",
    "bgc = RandomForestClassifier(n_estimators=100, max_features=1500, max_depth=50)\n",
    "bgc.fit(X_train,y_train)\n",
    "pred=bgc.predict(X_test)\n"
   ]
  },
  {
   "cell_type": "code",
   "execution_count": 79,
   "metadata": {},
   "outputs": [
    {
     "name": "stdout",
     "output_type": "stream",
     "text": [
      "Accuracy 0.8451230511532019\n",
      "AUC Score 0.7838068031040167\n",
      "F Score 0.7055365017148457\n",
      "Recall Score 0.6368863334807607\n",
      "Normalized confusion matrix\n",
      "None\n"
     ]
    },
    {
     "data": {
      "image/png": "[encoded data removed]",
      "text/plain": [
       "<Figure size 432x288 with 2 Axes>"
      ]
     },
     "metadata": {
      "needs_background": "light"
     },
     "output_type": "display_data"
    }
   ],
   "source": [
    "print('Accuracy', metrics.accuracy_score(y_test,pred))\n",
    "print('AUC Score', metrics.roc_auc_score(y_test,pred))\n",
    "print('F Score', metrics.f1_score(y_test,pred))\n",
    "print('Recall Score', metrics.recall_score(y_test,pred))\n",
    "\n",
    "classes=[0,1]\n",
    "cm = confusion_matrix(y_test, pred, labels=classes)\n",
    "cmp=plot_confusion_matrix(cm, classes, normalize=True)\n",
    "print(cmp)"
   ]
  },
  {
   "cell_type": "code",
   "execution_count": 80,
   "metadata": {
    "scrolled": false
   },
   "outputs": [
    {
     "name": "stdout",
     "output_type": "stream",
     "text": [
      "AxesSubplot(0.125,0.125;0.62x0.755)\n"
     ]
    },
    {
     "data": {
      "image/png": "[encoded data removed]",
      "text/plain": [
       "<Figure size 432x288 with 2 Axes>"
      ]
     },
     "metadata": {
      "needs_background": "light"
     },
     "output_type": "display_data"
    }
   ],
   "source": [
    "classification_metrics=classification_report(y_test, pred, output_dict=True)\n",
    "class_metric=sns.heatmap(pd.DataFrame(classification_metrics).iloc[:-1, :].T, annot=True)\n",
    "print(class_metric)\n",
    "\n"
   ]
  },
  {
   "cell_type": "code",
   "execution_count": 81,
   "metadata": {},
   "outputs": [],
   "source": [
    "import pickle\n",
    "pickle.dump(bgc, open(\"RandomClassifier.pkl\", \"wb\"))  # save it into a file named save.p"
   ]
  },
  {
   "cell_type": "code",
   "execution_count": 83,
   "metadata": {},
   "outputs": [],
   "source": [
    "##3 CART\n",
    "\n",
    "from sklearn.tree import DecisionTreeClassifier\n",
    "cart = DecisionTreeClassifier( max_features=1500,criterion='gini',random_state=1,max_depth=50)\n",
    "cart.fit(X_train,y_train)\n",
    "pred=cart.predict(X_test)\n"
   ]
  },
  {
   "cell_type": "code",
   "execution_count": 84,
   "metadata": {},
   "outputs": [
    {
     "name": "stdout",
     "output_type": "stream",
     "text": [
      "Accuracy 0.8319804148949878\n",
      "AUC Score 0.7797433557154919\n",
      "F Score 0.6941838649155723\n",
      "Recall Score 0.6545776205218929\n",
      "Normalized confusion matrix\n",
      "None\n"
     ]
    },
    {
     "data": {
      "image/png": "[encoded data removed]",
      "text/plain": [
       "<Figure size 432x288 with 2 Axes>"
      ]
     },
     "metadata": {
      "needs_background": "light"
     },
     "output_type": "display_data"
    }
   ],
   "source": [
    "print('Accuracy', metrics.accuracy_score(y_test,pred))\n",
    "print('AUC Score', metrics.roc_auc_score(y_test,pred))\n",
    "print('F Score', metrics.f1_score(y_test,pred))\n",
    "print('Recall Score', metrics.recall_score(y_test,pred))\n",
    "\n",
    "classes=[0,1]\n",
    "cm = confusion_matrix(y_test, pred, labels=classes)\n",
    "cmp=plot_confusion_matrix(cm, classes, normalize=True)\n",
    "print(cmp)"
   ]
  },
  {
   "cell_type": "code",
   "execution_count": 85,
   "metadata": {
    "scrolled": false
   },
   "outputs": [
    {
     "name": "stdout",
     "output_type": "stream",
     "text": [
      "AxesSubplot(0.125,0.125;0.62x0.755)\n"
     ]
    },
    {
     "data": {
      "image/png": "[encoded data removed]",
      "text/plain": [
       "<Figure size 432x288 with 2 Axes>"
      ]
     },
     "metadata": {
      "needs_background": "light"
     },
     "output_type": "display_data"
    }
   ],
   "source": [
    "classification_metrics=classification_report(y_test, pred, output_dict=True)\n",
    "class_metric=sns.heatmap(pd.DataFrame(classification_metrics).iloc[:-1, :].T, annot=True)\n",
    "print(class_metric)\n",
    "\n"
   ]
  },
  {
   "cell_type": "code",
   "execution_count": 86,
   "metadata": {},
   "outputs": [],
   "source": [
    "import pickle\n",
    "pickle.dump(cart, open(\"CARTClassifier.pkl\", \"wb\"))  # save it into a file named save.p"
   ]
  },
  {
   "cell_type": "code",
   "execution_count": 88,
   "metadata": {},
   "outputs": [
    {
     "data": {
      "text/plain": [
       "{'ccp_alpha': 0.0,\n",
       " 'criterion': 'friedman_mse',\n",
       " 'init': None,\n",
       " 'learning_rate': 0.1,\n",
       " 'loss': 'deviance',\n",
       " 'max_depth': 3,\n",
       " 'max_features': None,\n",
       " 'max_leaf_nodes': None,\n",
       " 'min_impurity_decrease': 0.0,\n",
       " 'min_samples_leaf': 1,\n",
       " 'min_samples_split': 2,\n",
       " 'min_weight_fraction_leaf': 0.0,\n",
       " 'n_estimators': 100,\n",
       " 'n_iter_no_change': None,\n",
       " 'random_state': None,\n",
       " 'subsample': 1.0,\n",
       " 'tol': 0.0001,\n",
       " 'validation_fraction': 0.1,\n",
       " 'verbose': 0,\n",
       " 'warm_start': False}"
      ]
     },
     "execution_count": 88,
     "metadata": {},
     "output_type": "execute_result"
    }
   ],
   "source": [
    "xgb.get_params()"
   ]
  },
  {
   "cell_type": "code",
   "execution_count": 89,
   "metadata": {},
   "outputs": [],
   "source": [
    "##4 Gradient Boosting\n",
    "\n",
    "from sklearn.ensemble import GradientBoostingClassifier\n",
    "xgb = GradientBoostingClassifier(n_estimators=20, max_depth=50, max_features=1500)\n",
    "\n",
    "xgb.fit(X_train,y_train)\n",
    "pred=xgb.predict(X_test)"
   ]
  },
  {
   "cell_type": "code",
   "execution_count": 90,
   "metadata": {},
   "outputs": [
    {
     "name": "stdout",
     "output_type": "stream",
     "text": [
      "Accuracy 0.8590387836618992\n",
      "AUC Score 0.803131920710868\n",
      "F Score 0.7344660194174757\n",
      "Recall Score 0.6691729323308271\n",
      "Normalized confusion matrix\n",
      "None\n"
     ]
    },
    {
     "data": {
      "image/png": "[encoded data removed]",
      "text/plain": [
       "<Figure size 432x288 with 2 Axes>"
      ]
     },
     "metadata": {
      "needs_background": "light"
     },
     "output_type": "display_data"
    }
   ],
   "source": [
    "\n",
    "print('Accuracy', metrics.accuracy_score(y_test,pred))\n",
    "print('AUC Score', metrics.roc_auc_score(y_test,pred))\n",
    "print('F Score', metrics.f1_score(y_test,pred))\n",
    "print('Recall Score', metrics.recall_score(y_test,pred))\n",
    "\n",
    "classes=[0,1]\n",
    "cm = confusion_matrix(y_test, pred, labels=classes)\n",
    "cmp=plot_confusion_matrix(cm, classes, normalize=True)\n",
    "print(cmp)"
   ]
  },
  {
   "cell_type": "code",
   "execution_count": 91,
   "metadata": {},
   "outputs": [
    {
     "name": "stdout",
     "output_type": "stream",
     "text": [
      "AxesSubplot(0.125,0.125;0.62x0.755)\n"
     ]
    },
    {
     "data": {
      "image/png": "[encoded data removed]",
      "text/plain": [
       "<Figure size 432x288 with 2 Axes>"
      ]
     },
     "metadata": {
      "needs_background": "light"
     },
     "output_type": "display_data"
    }
   ],
   "source": [
    "classification_metrics=classification_report(y_test, pred, output_dict=True)\n",
    "class_metric=sns.heatmap(pd.DataFrame(classification_metrics).iloc[:-1, :].T, annot=True)\n",
    "print(class_metric)"
   ]
  },
  {
   "cell_type": "code",
   "execution_count": 92,
   "metadata": {},
   "outputs": [],
   "source": [
    "import pickle\n",
    "pickle.dump(xgb, open(\"XGBClassifier.pkl\", \"wb\"))  # save it into a file named save.p"
   ]
  },
  {
   "cell_type": "code",
   "execution_count": 102,
   "metadata": {},
   "outputs": [],
   "source": [
    "##5 KNN Classifier\n",
    "\n",
    "from sklearn.neighbors import KNeighborsClassifier\n",
    "knn = KNeighborsClassifier(n_neighbors=7)\n",
    "knn.fit(X_train,y_train)\n",
    "pred=knn.predict(X_test)\n"
   ]
  },
  {
   "cell_type": "code",
   "execution_count": 95,
   "metadata": {},
   "outputs": [
    {
     "data": {
      "text/plain": [
       "{'algorithm': 'auto',\n",
       " 'leaf_size': 30,\n",
       " 'metric': 'minkowski',\n",
       " 'metric_params': None,\n",
       " 'n_jobs': None,\n",
       " 'n_neighbors': 5,\n",
       " 'p': 2,\n",
       " 'weights': 'uniform'}"
      ]
     },
     "execution_count": 95,
     "metadata": {},
     "output_type": "execute_result"
    }
   ],
   "source": [
    "knn.get_params()"
   ]
  },
  {
   "cell_type": "code",
   "execution_count": 103,
   "metadata": {},
   "outputs": [
    {
     "name": "stdout",
     "output_type": "stream",
     "text": [
      "Accuracy 0.7693596186058498\n",
      "AUC Score 0.6147062442201762\n",
      "F Score 0.38147892190739463\n",
      "Recall Score 0.24413976116762495\n",
      "Normalized confusion matrix\n",
      "None\n"
     ]
    },
    {
     "data": {
      "image/png": "[encoded data removed]",
      "text/plain": [
       "<Figure size 432x288 with 2 Axes>"
      ]
     },
     "metadata": {
      "needs_background": "light"
     },
     "output_type": "display_data"
    }
   ],
   "source": [
    "\n",
    "print('Accuracy', metrics.accuracy_score(y_test,pred))\n",
    "print('AUC Score', metrics.roc_auc_score(y_test,pred))\n",
    "print('F Score', metrics.f1_score(y_test,pred))\n",
    "print('Recall Score', metrics.recall_score(y_test,pred))\n",
    "\n",
    "classes=[0,1]\n",
    "cm = confusion_matrix(y_test, pred, labels=classes)\n",
    "cmp=plot_confusion_matrix(cm, classes, normalize=True)\n",
    "print(cmp)"
   ]
  },
  {
   "cell_type": "code",
   "execution_count": 104,
   "metadata": {},
   "outputs": [
    {
     "name": "stdout",
     "output_type": "stream",
     "text": [
      "AxesSubplot(0.125,0.125;0.62x0.755)\n"
     ]
    },
    {
     "data": {
      "image/png": "[encoded data removed]",
      "text/plain": [
       "<Figure size 432x288 with 2 Axes>"
      ]
     },
     "metadata": {
      "needs_background": "light"
     },
     "output_type": "display_data"
    }
   ],
   "source": [
    "classification_metrics=classification_report(y_test, pred, output_dict=True)\n",
    "class_metric=sns.heatmap(pd.DataFrame(classification_metrics).iloc[:-1, :].T, annot=True)\n",
    "print(class_metric)"
   ]
  },
  {
   "cell_type": "code",
   "execution_count": 105,
   "metadata": {},
   "outputs": [],
   "source": [
    "import pickle\n",
    "pickle.dump(knn, open(\"KNNClassifier.pkl\", \"wb\"))  # save it into a file named save.p"
   ]
  },
  {
   "cell_type": "code",
   "execution_count": 107,
   "metadata": {},
   "outputs": [
    {
     "data": {
      "text/plain": [
       "{'bootstrap': True,\n",
       " 'ccp_alpha': 0.0,\n",
       " 'class_weight': None,\n",
       " 'criterion': 'gini',\n",
       " 'max_depth': None,\n",
       " 'max_features': 'auto',\n",
       " 'max_leaf_nodes': None,\n",
       " 'max_samples': None,\n",
       " 'min_impurity_decrease': 0.0,\n",
       " 'min_samples_leaf': 1,\n",
       " 'min_samples_split': 2,\n",
       " 'min_weight_fraction_leaf': 0.0,\n",
       " 'n_estimators': 100,\n",
       " 'n_jobs': None,\n",
       " 'oob_score': False,\n",
       " 'random_state': None,\n",
       " 'verbose': 0,\n",
       " 'warm_start': False}"
      ]
     },
     "execution_count": 107,
     "metadata": {},
     "output_type": "execute_result"
    }
   ],
   "source": [
    "nbayes.get_params()"
   ]
  },
  {
   "cell_type": "code",
   "execution_count": 108,
   "metadata": {},
   "outputs": [],
   "source": [
    "##6 NB Classifier\n",
    "\n",
    "from sklearn.naive_bayes import MultinomialNB\n",
    "nbayes = RandomForestClassifier()\n",
    "nbayes.fit(X_train,y_train)\n",
    "pred=nbayes.predict(X_test)\n"
   ]
  },
  {
   "cell_type": "code",
   "execution_count": 109,
   "metadata": {},
   "outputs": [
    {
     "name": "stdout",
     "output_type": "stream",
     "text": [
      "Accuracy 0.8750161061718851\n",
      "AUC Score 0.8119302400385993\n",
      "F Score 0.7549267306720567\n",
      "Recall Score 0.6607695709862893\n",
      "Normalized confusion matrix\n",
      "None\n"
     ]
    },
    {
     "data": {
      "image/png": "[encoded data removed]",
      "text/plain": [
       "<Figure size 432x288 with 2 Axes>"
      ]
     },
     "metadata": {
      "needs_background": "light"
     },
     "output_type": "display_data"
    }
   ],
   "source": [
    "\n",
    "print('Accuracy', metrics.accuracy_score(y_test,pred))\n",
    "print('AUC Score', metrics.roc_auc_score(y_test,pred))\n",
    "print('F Score', metrics.f1_score(y_test,pred))\n",
    "print('Recall Score', metrics.recall_score(y_test,pred))\n",
    "\n",
    "classes=[0,1]\n",
    "cm = confusion_matrix(y_test, pred, labels=classes)\n",
    "cmp=plot_confusion_matrix(cm, classes, normalize=True)\n",
    "print(cmp)"
   ]
  },
  {
   "cell_type": "code",
   "execution_count": 110,
   "metadata": {},
   "outputs": [
    {
     "name": "stdout",
     "output_type": "stream",
     "text": [
      "AxesSubplot(0.125,0.125;0.62x0.755)\n"
     ]
    },
    {
     "data": {
      "image/png": "[encoded data removed]",
      "text/plain": [
       "<Figure size 432x288 with 2 Axes>"
      ]
     },
     "metadata": {
      "needs_background": "light"
     },
     "output_type": "display_data"
    }
   ],
   "source": [
    "classification_metrics=classification_report(y_test, pred, output_dict=True)\n",
    "class_metric=sns.heatmap(pd.DataFrame(classification_metrics).iloc[:-1, :].T, annot=True)\n",
    "print(class_metric)"
   ]
  },
  {
   "cell_type": "code",
   "execution_count": 111,
   "metadata": {},
   "outputs": [],
   "source": [
    "import pickle\n",
    "pickle.dump(nbayes, open(\"NaiveBayesClassifier.pkl\", \"wb\"))  # save it into a file named save.p"
   ]
  },
  {
   "cell_type": "code",
   "execution_count": 113,
   "metadata": {},
   "outputs": [
    {
     "data": {
      "text/plain": [
       "{'bootstrap': True,\n",
       " 'ccp_alpha': 0.0,\n",
       " 'class_weight': None,\n",
       " 'criterion': 'gini',\n",
       " 'max_depth': None,\n",
       " 'max_features': 'auto',\n",
       " 'max_leaf_nodes': None,\n",
       " 'max_samples': None,\n",
       " 'min_impurity_decrease': 0.0,\n",
       " 'min_samples_leaf': 1,\n",
       " 'min_samples_split': 2,\n",
       " 'min_weight_fraction_leaf': 0.0,\n",
       " 'n_estimators': 100,\n",
       " 'n_jobs': None,\n",
       " 'oob_score': False,\n",
       " 'random_state': None,\n",
       " 'verbose': 0,\n",
       " 'warm_start': False}"
      ]
     },
     "execution_count": 113,
     "metadata": {},
     "output_type": "execute_result"
    }
   ],
   "source": [
    "lr.get_params()"
   ]
  },
  {
   "cell_type": "code",
   "execution_count": 114,
   "metadata": {},
   "outputs": [],
   "source": [
    "##7 Logistic Regression Classifier\n",
    "\n",
    "from sklearn.linear_model import LogisticRegression\n",
    "lr = RandomForestClassifier()\n",
    "lr.fit(X_train,y_train)\n",
    "pred=lr.predict(X_test)\n"
   ]
  },
  {
   "cell_type": "code",
   "execution_count": 115,
   "metadata": {},
   "outputs": [
    {
     "name": "stdout",
     "output_type": "stream",
     "text": [
      "Accuracy 0.8757892024223682\n",
      "AUC Score 0.8139082465522094\n",
      "F Score 0.7574232511323604\n",
      "Recall Score 0.6656346749226006\n",
      "Normalized confusion matrix\n",
      "None\n"
     ]
    },
    {
     "data": {
      "image/png": "[encoded data removed]",
      "text/plain": [
       "<Figure size 432x288 with 2 Axes>"
      ]
     },
     "metadata": {
      "needs_background": "light"
     },
     "output_type": "display_data"
    }
   ],
   "source": [
    "\n",
    "print('Accuracy', metrics.accuracy_score(y_test,pred))\n",
    "print('AUC Score', metrics.roc_auc_score(y_test,pred))\n",
    "print('F Score', metrics.f1_score(y_test,pred))\n",
    "print('Recall Score', metrics.recall_score(y_test,pred))\n",
    "\n",
    "classes=[0,1]\n",
    "cm = confusion_matrix(y_test, pred, labels=classes)\n",
    "cmp=plot_confusion_matrix(cm, classes, normalize=True)\n",
    "print(cmp)"
   ]
  },
  {
   "cell_type": "code",
   "execution_count": 116,
   "metadata": {},
   "outputs": [
    {
     "name": "stdout",
     "output_type": "stream",
     "text": [
      "AxesSubplot(0.125,0.125;0.62x0.755)\n"
     ]
    },
    {
     "data": {
      "image/png": "[encoded data removed]",
      "text/plain": [
       "<Figure size 432x288 with 2 Axes>"
      ]
     },
     "metadata": {
      "needs_background": "light"
     },
     "output_type": "display_data"
    }
   ],
   "source": [
    "classification_metrics=classification_report(y_test, pred, output_dict=True)\n",
    "class_metric=sns.heatmap(pd.DataFrame(classification_metrics).iloc[:-1, :].T, annot=True)\n",
    "print(class_metric)"
   ]
  },
  {
   "cell_type": "code",
   "execution_count": 117,
   "metadata": {},
   "outputs": [],
   "source": [
    "import pickle\n",
    "pickle.dump(lr, open(\"LogisticClassifier.pkl\", \"wb\"))  # save it into a file named save.p"
   ]
  },
  {
   "cell_type": "code",
   "execution_count": 119,
   "metadata": {},
   "outputs": [
    {
     "data": {
      "text/plain": [
       "{'bootstrap': True,\n",
       " 'ccp_alpha': 0.0,\n",
       " 'class_weight': None,\n",
       " 'criterion': 'gini',\n",
       " 'max_depth': None,\n",
       " 'max_features': 'auto',\n",
       " 'max_leaf_nodes': None,\n",
       " 'max_samples': None,\n",
       " 'min_impurity_decrease': 0.0,\n",
       " 'min_samples_leaf': 1,\n",
       " 'min_samples_split': 2,\n",
       " 'min_weight_fraction_leaf': 0.0,\n",
       " 'n_estimators': 100,\n",
       " 'n_jobs': None,\n",
       " 'oob_score': False,\n",
       " 'random_state': None,\n",
       " 'verbose': 0,\n",
       " 'warm_start': False}"
      ]
     },
     "execution_count": 119,
     "metadata": {},
     "output_type": "execute_result"
    }
   ],
   "source": [
    "svc.get_params()"
   ]
  },
  {
   "cell_type": "code",
   "execution_count": 120,
   "metadata": {},
   "outputs": [],
   "source": [
    "##8 SVC Classifier\n",
    "\n",
    "from sklearn.svm import SVC\n",
    "svc = RandomForestClassifier()\n",
    "svc.fit(X_train,y_train)\n",
    "pred=svc.predict(X_test)\n"
   ]
  },
  {
   "cell_type": "code",
   "execution_count": 121,
   "metadata": {},
   "outputs": [
    {
     "name": "stdout",
     "output_type": "stream",
     "text": [
      "Accuracy 0.8779796417987373\n",
      "AUC Score 0.8168862530658196\n",
      "F Score 0.762000502638854\n",
      "Recall Score 0.670499778858912\n",
      "Normalized confusion matrix\n",
      "None\n"
     ]
    },
    {
     "data": {
      "image/png": "[encoded data removed]",
      "text/plain": [
       "<Figure size 432x288 with 2 Axes>"
      ]
     },
     "metadata": {
      "needs_background": "light"
     },
     "output_type": "display_data"
    }
   ],
   "source": [
    "\n",
    "print('Accuracy', metrics.accuracy_score(y_test,pred))\n",
    "print('AUC Score', metrics.roc_auc_score(y_test,pred))\n",
    "print('F Score', metrics.f1_score(y_test,pred))\n",
    "print('Recall Score', metrics.recall_score(y_test,pred))\n",
    "\n",
    "classes=[0,1]\n",
    "cm = confusion_matrix(y_test, pred, labels=classes)\n",
    "cmp=plot_confusion_matrix(cm, classes, normalize=True)\n",
    "print(cmp)"
   ]
  },
  {
   "cell_type": "code",
   "execution_count": 122,
   "metadata": {},
   "outputs": [
    {
     "name": "stdout",
     "output_type": "stream",
     "text": [
      "AxesSubplot(0.125,0.125;0.62x0.755)\n"
     ]
    },
    {
     "data": {
      "image/png": "[encoded data removed]",
      "text/plain": [
       "<Figure size 432x288 with 2 Axes>"
      ]
     },
     "metadata": {
      "needs_background": "light"
     },
     "output_type": "display_data"
    }
   ],
   "source": [
    "classification_metrics=classification_report(y_test, pred, output_dict=True)\n",
    "class_metric=sns.heatmap(pd.DataFrame(classification_metrics).iloc[:-1, :].T, annot=True)\n",
    "print(class_metric)"
   ]
  },
  {
   "cell_type": "code",
   "execution_count": 123,
   "metadata": {},
   "outputs": [],
   "source": [
    "import pickle\n",
    "pickle.dump(svc, open(\"SVCClassifier.pkl\", \"wb\"))  # save it into a file named save.p"
   ]
  },
  {
   "cell_type": "code",
   "execution_count": null,
   "metadata": {},
   "outputs": [],
   "source": []
  },
  {
   "cell_type": "code",
   "execution_count": 125,
   "metadata": {},
   "outputs": [],
   "source": [
    "##9 AdaBoost Classifier\n",
    "\n",
    "from sklearn.ensemble import AdaBoostClassifier\n",
    "ada = AdaBoostClassifier(n_estimators=100)\n",
    "ada.fit(X_train,y_train)\n",
    "pred=ada.predict(X_test)\n"
   ]
  },
  {
   "cell_type": "code",
   "execution_count": 126,
   "metadata": {},
   "outputs": [
    {
     "name": "stdout",
     "output_type": "stream",
     "text": [
      "Accuracy 0.8134261048833913\n",
      "AUC Score 0.7383921032527844\n",
      "F Score 0.6356316054353297\n",
      "Recall Score 0.5586023883237505\n",
      "Normalized confusion matrix\n",
      "None\n"
     ]
    },
    {
     "data": {
      "image/png": "[encoded data removed]",
      "text/plain": [
       "<Figure size 432x288 with 2 Axes>"
      ]
     },
     "metadata": {
      "needs_background": "light"
     },
     "output_type": "display_data"
    }
   ],
   "source": [
    "\n",
    "print('Accuracy', metrics.accuracy_score(y_test,pred))\n",
    "print('AUC Score', metrics.roc_auc_score(y_test,pred))\n",
    "print('F Score', metrics.f1_score(y_test,pred))\n",
    "print('Recall Score', metrics.recall_score(y_test,pred))\n",
    "\n",
    "classes=[0,1]\n",
    "cm = confusion_matrix(y_test, pred, labels=classes)\n",
    "cmp=plot_confusion_matrix(cm, classes, normalize=True)\n",
    "print(cmp)"
   ]
  },
  {
   "cell_type": "code",
   "execution_count": 127,
   "metadata": {
    "scrolled": true
   },
   "outputs": [
    {
     "name": "stdout",
     "output_type": "stream",
     "text": [
      "AxesSubplot(0.125,0.125;0.62x0.755)\n"
     ]
    },
    {
     "data": {
      "image/png": "[encoded data removed]",
      "text/plain": [
       "<Figure size 432x288 with 2 Axes>"
      ]
     },
     "metadata": {
      "needs_background": "light"
     },
     "output_type": "display_data"
    }
   ],
   "source": [
    "classification_metrics=classification_report(y_test, pred, output_dict=True)\n",
    "class_metric=sns.heatmap(pd.DataFrame(classification_metrics).iloc[:-1, :].T, annot=True)\n",
    "print(class_metric)"
   ]
  },
  {
   "cell_type": "markdown",
   "metadata": {},
   "source": [
    "## Above We have seen Individual Models, now we can finalize 2 or 3 models that gives good performance for hyperparamter tuning and selecting the best model"
   ]
  },
  {
   "cell_type": "code",
   "execution_count": 136,
   "metadata": {},
   "outputs": [],
   "source": [
    "## Bagging Classifier\n",
    "\n",
    "def best_param_model_bgc(X_train, y_train):\n",
    "    bgc=BaggingClassifier()\n",
    "    param_grid_bgc = {\n",
    "\n",
    "        'n_estimators':[10,50,100,200]\n",
    "        \n",
    "\n",
    "    }\n",
    "    # Creating an object of the Grid Search class\n",
    "    grid= GridSearchCV(bgc,param_grid_bgc, verbose=3,cv=2)\n",
    "    # finding the best parameters\n",
    "    grid.fit(X_train, y_train)\n",
    "\n",
    "    # extracting the best parameters\n",
    "\n",
    "    n_estimators = grid.best_params_['n_estimators']\n",
    "   \n",
    "\n",
    "    # creating a new model with the best parameters\n",
    "    bgc = BaggingClassifier(n_estimators=n_estimators)\n",
    "    # training the mew model\n",
    "    clf=bgc.fit(X_train, y_train)\n",
    "    return clf\n",
    "    \n",
    " \n"
   ]
  },
  {
   "cell_type": "code",
   "execution_count": 137,
   "metadata": {},
   "outputs": [],
   "source": [
    "## Random Forest Classifier\n",
    "\n",
    "def best_param_model_rf(X_train, y_train):\n",
    "    rf=RandomForestClassifier()\n",
    "    param_grid_rf = {\n",
    "\n",
    "        'criterion': ['gini','entropy'],\n",
    "        'max_depth': [10,50,75,100],\n",
    "        'max_features':[\"auto\", \"sqrt\", \"log2\"],\n",
    "        'n_estimators':[10,50,100,200]\n",
    "        \n",
    "\n",
    "    }\n",
    "    # Creating an object of the Grid Search class\n",
    "    grid= GridSearchCV(rf,param_grid_SVC, verbose=3,cv=2)\n",
    "    # finding the best parameters\n",
    "    grid.fit(X_train, y_train)\n",
    "\n",
    "    # extracting the best parameters\n",
    "    criterion = grid.best_params_['criterion']\n",
    "    max_depth = grid.best_params_['max_depth']\n",
    "    max_features = grid.best_params_['max_features']\n",
    "    n_estimators = grid.best_params_['n_estimators']\n",
    "   \n",
    "\n",
    "    # creating a new model with the best parameters\n",
    "    rf = RandomForestClassifier(criterion=criterion, max_depth=max_depth, max_features=max_features, n_estimators=n_estimators)\n",
    "    # training the mew model\n",
    "    clf=rf.fit(X_train, y_train)\n",
    "    return clf\n",
    "    \n",
    " \n"
   ]
  },
  {
   "cell_type": "code",
   "execution_count": 114,
   "metadata": {},
   "outputs": [],
   "source": [
    "## SVC Classifer\n",
    "\n",
    "def best_param_model_SVC(X_train, y_train):\n",
    "    SVClassifier=SVC()\n",
    "    param_grid_SVC = {\n",
    "\n",
    "        'C': [0.2,0.4,0.6,0.8,1.0],\n",
    "        'kernel': ['linear', 'poly', 'rbf', 'sigmoid', 'precomputed']\n",
    "        \n",
    "\n",
    "    }\n",
    "    # Creating an object of the Grid Search class\n",
    "    grid= GridSearchCV(SVClassifier,param_grid_SVC, verbose=3,cv=2)\n",
    "    # finding the best parameters\n",
    "    grid.fit(X_train, y_train)\n",
    "\n",
    "    # extracting the best parameters\n",
    "    C = grid.best_params_['C']\n",
    "    kernel = grid.best_params_['kernel']\n",
    "   \n",
    "\n",
    "    # creating a new model with the best parameters\n",
    "    SVClassifier = SVC(C=C, kernel=kernel)\n",
    "    # training the mew model\n",
    "    clf=SVClassifier.fit(X_train, y_train)\n",
    "    return clf\n",
    "    \n",
    " \n"
   ]
  },
  {
   "cell_type": "code",
   "execution_count": 110,
   "metadata": {},
   "outputs": [],
   "source": [
    "## XG boost Classifier\n",
    "\n",
    "def best_param_model_XGBoost(X_train, y_train):\n",
    "    XGBclassifier=XGBClassifier()\n",
    "    param_grid_XGBoost = {\n",
    "\n",
    "        'learning_rate': [0.5, 0.1, 0.01, 0.001],\n",
    "        'max_depth': [3, 5, 10, 20],\n",
    "        'n_estimators': [10, 50, 100, 200]\n",
    "\n",
    "    }\n",
    "    # Creating an object of the Grid Search class\n",
    "    grid= GridSearchCV(XGBclassifier,param_grid_XGBoost, verbose=3,cv=2)\n",
    "    # finding the best parameters\n",
    "    grid.fit(X_train, y_train)\n",
    "\n",
    "    # extracting the best parameters\n",
    "    learning_rate = grid.best_params_['learning_rate']\n",
    "    max_depth = grid.best_params_['max_depth']\n",
    "    n_estimators = grid.best_params_['n_estimators']\n",
    "\n",
    "    # creating a new model with the best parameters\n",
    "    XGBclassifier = XGBClassifier(learning_rate=learning_rate, max_depth=max_depth, n_estimators=n_estimators)\n",
    "    # training the mew model\n",
    "    clf=XGBclassifier.fit(X_train, y_train)\n",
    "    return clf\n",
    "    \n",
    " \n"
   ]
  },
  {
   "cell_type": "code",
   "execution_count": 111,
   "metadata": {},
   "outputs": [],
   "source": [
    "## Naive Bayes Classifier\n",
    "\n",
    "def best_param_model_NB(X_train, y_train):\n",
    "    NBclassifier=MultinomialNB()\n",
    "    param_grid_NaiveBayes = {\n",
    "\n",
    "        'alpha': [0.2, 0.4, 0.6, 0.8,1]\n",
    "\n",
    "    }\n",
    "    # Creating an object of the Grid Search class\n",
    "    grid= GridSearchCV(NBclassifier,param_grid_NaiveBayes, verbose=3,cv=2)\n",
    "    # finding the best parameters\n",
    "    grid.fit(X_train, y_train)\n",
    "\n",
    "    # extracting the best parameters\n",
    "    alpha = grid.best_params_['alpha']\n",
    "\n",
    "    # creating a new model with the best parameters\n",
    "    classifier = MultinomialNB(alpha=alpha)\n",
    "    # training the mew model\n",
    "    clf=classifier.fit(X_train, y_train)\n",
    "    \n",
    "    return clf\n"
   ]
  },
  {
   "cell_type": "markdown",
   "metadata": {},
   "source": [
    "### Comparing SVC and NB with Grid Search and Cross Validation to pick the best model"
   ]
  },
  {
   "cell_type": "code",
   "execution_count": 134,
   "metadata": {},
   "outputs": [],
   "source": [
    "def get_best_model(X_train,y_train,X_test,y_test):\n",
    "    \n",
    "\n",
    "#SVC\n",
    "    svc=best_param_model_SVC(X_train,y_train)\n",
    "    prediction_svc = svc.predict(X_test) # Predictions using the XGBoost Model\n",
    "\n",
    "    if len(y_test.unique()) == 1: #if there is only one label in y, then roc_auc_score returns error. We will use accuracy in that case\n",
    "        svc_score = accuracy_score(y_test, prediction_svc)\n",
    "    else:\n",
    "        svc_score = metrics.roc_auc_score(y_test, prediction_svc) # AUC for NB\n",
    "    \n",
    "\n",
    "#NAive Bayes\n",
    "    NB=best_param_model_NB(X_train,y_train)\n",
    "    prediction_NB = NB.predict(X_test) # Predictions using the XGBoost Model\n",
    "\n",
    "    if len(y_test.unique()) == 1: #if there is only one label in y, then roc_auc_score returns error. We will use accuracy in that case\n",
    "        NB_score = accuracy_score(y_test, prediction_NB)\n",
    "    else:\n",
    "        NB_score = metrics.roc_auc_score(y_test, prediction_NB) # AUC for NB\n",
    "        \n",
    "        #comparing the two models\n",
    "    if(XGB_score <  NB_score):\n",
    "        return 'Naive Bayes',NB\n",
    "    else:\n",
    "        return 'XG Boost',XGB\n",
    "    \n",
    "  "
   ]
  },
  {
   "cell_type": "code",
   "execution_count": null,
   "metadata": {},
   "outputs": [],
   "source": [
    "best_model_name,best_model=get_best_model(X_train,y_train,X_test,y_test)"
   ]
  },
  {
   "cell_type": "code",
   "execution_count": 143,
   "metadata": {},
   "outputs": [],
   "source": [
    "!pip freeze -> requirement_training.txt"
   ]
  }
 ],
 "metadata": {
  "colab": {
   "collapsed_sections": [],
   "name": "Tweet.ipynb",
   "provenance": []
  },
  "kernelspec": {
   "display_name": "Python 3 (ipykernel)",
   "language": "python",
   "name": "python3"
  },
  "language_info": {
   "codemirror_mode": {
    "name": "ipython",
    "version": 3
   },
   "file_extension": ".py",
   "mimetype": "text/x-python",
   "name": "python",
   "nbconvert_exporter": "python",
   "pygments_lexer": "ipython3",
   "version": "3.9.12"
  }
 },
 "nbformat": 4,
 "nbformat_minor": 1
}
